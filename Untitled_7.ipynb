{
 "cells": [
  {
   "cell_type": "code",
   "execution_count": 45,
   "metadata": {},
   "outputs": [
    {
     "name": "stdout",
     "output_type": "stream",
     "text": [
      "ID фильма с наибольшим количеством наивысших оценок - 318    0.007236\n",
      "Name:  movie_id, dtype: float64\n"
     ]
    }
   ],
   "source": [
    "# Задание 1\n",
    "import pandas as pd\n",
    "data = pd.read_csv('ratings.csv')\n",
    "\n",
    "# оставляю только столбцы с рейтингом и id фильмов:\n",
    "new_data = data.filter(items = [' movie_id', ' rating'])\n",
    "\n",
    "# оставляю только строки с оценкой 5:\n",
    "filtered_new_data_5 = new_data[new_data[' rating'] == 5]\n",
    "\n",
    "# получаю 1 элемент в распределении данных по id фильма:\n",
    "print('ID фильма с наибольшим количеством наивысших оценок -', filtered_new_data_5[' movie_id'].value_counts(normalize=True).head(1))"
   ]
  },
  {
   "cell_type": "code",
   "execution_count": 17,
   "metadata": {},
   "outputs": [
    {
     "name": "stdout",
     "output_type": "stream",
     "text": [
      "Суммарное потребление с учетом фильтров -  123220.0\n"
     ]
    }
   ],
   "source": [
    "# Задание 2\n",
    "import pandas as pd\n",
    "data = pd.read_csv('power.csv')\n",
    " \n",
    "# фильтрация по странам:\n",
    "filtered_countries= data[(data['country'] == 'Latvia')| (data['country'] == 'Lithuania') | (data['country'] == 'Estonia')]  \n",
    "\n",
    "# фильтрация по категории:\n",
    "filtered_countries_category = filtered_countries[(filtered_countries['category'] == 4) | (filtered_countries['category'] == 12) | (filtered_countries['category'] == 21)]          \n",
    "\n",
    "# фильтрация по годам:\n",
    "filtered_countries_category_year = filtered_countries_category[(filtered_countries_category['year'] >= 2008) & (filtered_countries_category['year'] <= 2010)]\n",
    "\n",
    "# исключение отрицательных значений потребления:\n",
    "final_data = filtered_countries_category_year[filtered_countries_category_year['quantity'] >= 0]\n",
    "\n",
    "print('Суммарное потребление с учетом фильтров - ', final_data['quantity'].sum())"
   ]
  },
  {
   "cell_type": "code",
   "execution_count": 8,
   "metadata": {},
   "outputs": [
    {
     "name": "stdout",
     "output_type": "stream",
     "text": [
      "                                          Планировка  \\\n",
      "0                                                NaN   \n",
      "1  2-комнатная 2eD  Морская набережная. SeaView  ...   \n",
      "2                     Смотреть  60 квартир в 2 домах   \n",
      "\n",
      "                                                 Тип  \\\n",
      "0       2-комнатная 2eD  Морская набережная. SeaView   \n",
      "1  2-комнатная 2eD  Морская набережная. SeaView  ...   \n",
      "2                     Смотреть  60 квартир в 2 домах   \n",
      "\n",
      "         Выбрать дом  Выбрать дом на плане комплекса  \\\n",
      "0                                                NaN   \n",
      "1  2-комнатная 2eD  Морская набережная. SeaView  ...   \n",
      "2                     Смотреть  60 квартир в 2 домах   \n",
      "\n",
      "                                                Этаж  \\\n",
      "0                                             2 — 11   \n",
      "1  2-комнатная 2eD  Морская набережная. SeaView  ...   \n",
      "2                     Смотреть  60 квартир в 2 домах   \n",
      "\n",
      "                                         Площадь, м²  \\\n",
      "0                                        38.0 — 44.5   \n",
      "1  2-комнатная 2eD  Морская набережная. SeaView  ...   \n",
      "2                     Смотреть  60 квартир в 2 домах   \n",
      "\n",
      "                                         Срок  сдачи  \\\n",
      "0                                        IV кв. 2022   \n",
      "1  2-комнатная 2eD  Морская набережная. SeaView  ...   \n",
      "2                     Смотреть  60 квартир в 2 домах   \n",
      "\n",
      "                                             Отделка  \\\n",
      "0                                                  –   \n",
      "1  2-комнатная 2eD  Морская набережная. SeaView  ...   \n",
      "2                     Смотреть  60 квартир в 2 домах   \n",
      "\n",
      "                                     Стоимость, руб.  \\\n",
      "0                               7 653 267 —9 626 431   \n",
      "1  2-комнатная 2eD  Морская набережная. SeaView  ...   \n",
      "2                     Смотреть  60 квартир в 2 домах   \n",
      "\n",
      "                                          Unnamed: 8  \n",
      "0                               60 квартир в 2 домах  \n",
      "1  2-комнатная 2eD  Морская набережная. SeaView  ...  \n",
      "2                     Смотреть  60 квартир в 2 домах  \n"
     ]
    },
    {
     "data": {
      "text/plain": [
       "pandas.core.frame.DataFrame"
      ]
     },
     "execution_count": 8,
     "metadata": {},
     "output_type": "execute_result"
    }
   ],
   "source": [
    "# Задание 3\n",
    "import pandas as pd\n",
    "data = pd.read_html('https://www.lsr.ru/spb/kvartiry-v-novostroikah/?price%5Bmin%5D=&price%5Bmax%5D=&area%5Bmin%5D=&area%5Bmax%5D=&floor%5Bmin%5D=&floor%5Bmax%5D=&obj%5B%5D=154&last_delivery=26&flattype%5Bflat%5D=on&mortgage_type=1&mortgage_payment=&mortgage_time=&ob%5Bpage%5D=1&ob%5Bid%5D=154&ob%5Bsort%5D=price&ob%5Border%5D=asc&load=true&object=154&showheader=1&group%5Bt%5D=true&__s=&ot[id]=2365&ot[page]=1')[0]\n",
    "print(data.head(3))\n",
    "type(data)"
   ]
  }
 ],
 "metadata": {
  "kernelspec": {
   "display_name": "Python 3",
   "language": "python",
   "name": "python3"
  },
  "language_info": {
   "codemirror_mode": {
    "name": "ipython",
    "version": 3
   },
   "file_extension": ".py",
   "mimetype": "text/x-python",
   "name": "python",
   "nbconvert_exporter": "python",
   "pygments_lexer": "ipython3",
   "version": "3.8.3"
  }
 },
 "nbformat": 4,
 "nbformat_minor": 4
}
